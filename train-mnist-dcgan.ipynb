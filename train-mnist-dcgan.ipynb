{
 "cells": [
  {
   "cell_type": "code",
   "execution_count": 1,
   "metadata": {},
   "outputs": [],
   "source": [
    "import torch\n",
    "import numpy as np\n",
    "import torchvision"
   ]
  },
  {
   "cell_type": "code",
   "execution_count": 2,
   "metadata": {},
   "outputs": [],
   "source": [
    "from torch.utils.data import DataLoader\n",
    "from torch.utils.data import TensorDataset, Dataset"
   ]
  },
  {
   "cell_type": "code",
   "execution_count": 3,
   "metadata": {},
   "outputs": [],
   "source": [
    "DATA = \"data/\""
   ]
  },
  {
   "cell_type": "code",
   "execution_count": 4,
   "metadata": {},
   "outputs": [],
   "source": [
    "%%capture\n",
    "mnist_ds= torchvision.datasets.MNIST(DATA, download=True)"
   ]
  },
  {
   "cell_type": "code",
   "execution_count": 5,
   "metadata": {},
   "outputs": [],
   "source": [
    "import torchvision.transforms as transforms"
   ]
  },
  {
   "cell_type": "markdown",
   "metadata": {},
   "source": [
    "Make all desired image transformations here"
   ]
  },
  {
   "cell_type": "code",
   "execution_count": 6,
   "metadata": {},
   "outputs": [],
   "source": [
    "transform = transforms.Compose([\n",
    "                    transforms.ToTensor()\n",
    "])"
   ]
  },
  {
   "cell_type": "markdown",
   "metadata": {},
   "source": [
    "custom DS for loading tensors and labels"
   ]
  },
  {
   "cell_type": "code",
   "execution_count": 7,
   "metadata": {},
   "outputs": [],
   "source": [
    "class MNISTDS(Dataset):\n",
    "    def __init__(self, mnist_ds, transform):\n",
    "        super().__init__()\n",
    "        self.mnist_ds= mnist_ds\n",
    "        self.transform = transform\n",
    "    def __len__(self):\n",
    "        return len(self.mnist_ds)\n",
    "    def __getitem__(self, i):\n",
    "        return self.transform(self.mnist_ds[i][0]), self.mnist_ds[i][1]\n",
    "    "
   ]
  },
  {
   "cell_type": "code",
   "execution_count": 8,
   "metadata": {},
   "outputs": [],
   "source": [
    "ds = MNISTDS(mnist_ds, transform)"
   ]
  },
  {
   "cell_type": "markdown",
   "metadata": {},
   "source": [
    "Define the model"
   ]
  },
  {
   "cell_type": "code",
   "execution_count": 9,
   "metadata": {},
   "outputs": [],
   "source": [
    "import torch.nn as nn"
   ]
  },
  {
   "cell_type": "markdown",
   "metadata": {},
   "source": [
    "The DCGAN architecture is a bunch of stacked \"transposed convolutions\". If like me, you're wondering what the hell a tranposed convolution is, see [here](https://github.com/vdumoulin/conv_arithmetic) for some very helpful visualizations. The punchline is: it's an ordinary convolution, but where the *stride* is used to \"inflate\" the input image before feeding it to the conv filter, so that the outputs can end up being larger in spatial extent than the inputs.\n",
    "\n",
    "I'm basically copying the [example pytorch implementation of DCGAN](https://github.com/pytorch/examples/blob/master/dcgan/main.py)"
   ]
  },
  {
   "cell_type": "code",
   "execution_count": 10,
   "metadata": {},
   "outputs": [],
   "source": [
    "class Generator(nn.Module):\n",
    "    def __init__(self, latent_size):\n",
    "        \"\"\"latent_size = size of the latent space\"\"\"\n",
    "        super(Generator, self).__init__()\n",
    "        \n",
    "        self.latent_size = latent_size\n",
    "        \n",
    "        #spatial extent at each layer\n",
    "        size = [4, 8, 16, 32]\n",
    "        #kernel size\n",
    "        self.kernel_size =4\n",
    "        #(proportional to the) number of generator filters\n",
    "        self.ngf = 64\n",
    "        \n",
    "        #takes a latent vector and outputs MNIST-sized image\n",
    "        #input: (_, nz, 1, 1) latent vector\n",
    "        self.upsample = nn.Sequential(\n",
    "            \n",
    "                                nn.ConvTranspose2d(self.latent_size, 4 * self.ngf, self.kernel_size,\n",
    "                                                      stride=1,padding=0,bias=False), \n",
    "                                nn.BatchNorm2d( 4 * self.ngf), \n",
    "                                nn.ReLU(),\n",
    "                                #spatial extent here is set by the kernel: (4,4)\n",
    "                                \n",
    "                                #by setting stride=2, we effectively double the output size (up to fiddling\n",
    "                                #with the boundary conditions..)\n",
    "                                # Weirdly, increasing the 'padding' arg actually decreases the amount of padding \n",
    "                                #that's applied to the input. the only reason padding is being used here is to\n",
    "                                #keep the output shapes at nice multiples of two\n",
    "                                nn.ConvTranspose2d(4 * self.ngf, 2 * self.ngf, self.kernel_size,\n",
    "                                                      stride=2,padding=1, bias=False), \n",
    "                                nn.BatchNorm2d( 2 * self.ngf), \n",
    "                                nn.ReLU(),\n",
    "                                \n",
    "                                #( 8,8)\n",
    "                                nn.ConvTranspose2d(2 * self.ngf, 1 * self.ngf, self.kernel_size,\n",
    "                                                      stride=2,padding=1, bias=False), \n",
    "                                nn.BatchNorm2d( 1 * self.ngf), \n",
    "                                nn.ReLU(),\n",
    "                                #(16,16)\n",
    "                                #here I'm increasing the padding to bring the output size to (28,28)\n",
    "                                #for MNIST\n",
    "                                nn.ConvTranspose2d(self.ngf, 1, self.kernel_size,\n",
    "                                                      stride=2,padding=3, bias=False), \n",
    "                                nn.Tanh(),\n",
    "                                #(32,32)\n",
    "                                \n",
    "                                                                                            \n",
    "                                )\n",
    "        \n",
    "    def forward(self, z):\n",
    "        \"\"\"Input: (_, latent_size) noise tensor\n",
    "            Output: (_, 1, 32, 32) generated image tensor\"\"\"\n",
    "        z = z.view(-1, self.latent_size, 1, 1)\n",
    "        return self.upsample(z)"
   ]
  },
  {
   "cell_type": "code",
   "execution_count": 11,
   "metadata": {},
   "outputs": [],
   "source": [
    "class Discriminator(nn.Module):\n",
    "    def __init__(self):\n",
    "        super(Discriminator, self).__init__()\n",
    "        \n",
    "        #scaling for the number of filters\n",
    "        self.nf = 64\n",
    "        # kernel size \n",
    "        self.kernel_size = 4\n",
    "        #input (1,28,28)\n",
    "        \n",
    "        #this is more or less the generator stack run in reverse\n",
    "        # a stride of 2 and padding of 1 causes the spatial extent to halve at each step\n",
    "        self.main = nn.Sequential(\n",
    "            nn.Conv2d(1, self.nf, self.kernel_size, stride=2,padding=3, bias=False),\n",
    "            nn.LeakyReLU(.2),\n",
    "            nn.Conv2d(self.nf, 2 * self.nf, self.kernel_size, stride=2, padding=1, bias=False),\n",
    "            nn.BatchNorm2d(2 * self.nf),\n",
    "            nn.LeakyReLU(.2),\n",
    "            nn.Conv2d(2*self.nf, 4 * self.nf, self.kernel_size, stride=2, padding=1, bias=False),\n",
    "            nn.BatchNorm2d(4 * self.nf),\n",
    "            nn.LeakyReLU(.2),\n",
    "            nn.Conv2d(4*self.nf, 1 , self.kernel_size, stride=1, padding=0, bias=False),\n",
    "            nn.Sigmoid()\n",
    "            \n",
    "        )\n",
    "        \n",
    "    def forward(self, x):\n",
    "        \"\"\"Input: (_, 1, 28, 28) image\n",
    "            Output: (_, 1) classification tensor\"\"\"\n",
    "        x = x.view(-1, 1, 28,28)\n",
    "        return self.main(x).view(-1)"
   ]
  },
  {
   "cell_type": "code",
   "execution_count": 12,
   "metadata": {},
   "outputs": [],
   "source": [
    "devname = \"cuda:0\" if torch.cuda.is_available() else \"cpu\""
   ]
  },
  {
   "cell_type": "code",
   "execution_count": 13,
   "metadata": {},
   "outputs": [],
   "source": [
    "device = torch.device(devname)"
   ]
  },
  {
   "cell_type": "code",
   "execution_count": 14,
   "metadata": {},
   "outputs": [],
   "source": [
    "latent_size = 100"
   ]
  },
  {
   "cell_type": "markdown",
   "metadata": {},
   "source": [
    "Initialize the Conv and BatchNorm layers. Apparently these values work well"
   ]
  },
  {
   "cell_type": "code",
   "execution_count": 15,
   "metadata": {},
   "outputs": [],
   "source": [
    "def weight_init(module):\n",
    "    classname = module.__class__.__name__\n",
    "    if classname.find('Conv')!=-1:\n",
    "        module.weight.data.normal_(0.0, .02)\n",
    "    elif classname.find('BatchNorm') != -1:\n",
    "        module.weight.data.normal_(1.0, .01)\n",
    "        module.bias.data.fill_(0.0)"
   ]
  },
  {
   "cell_type": "code",
   "execution_count": 16,
   "metadata": {},
   "outputs": [],
   "source": [
    "G = Generator(latent_size).to(device)\n",
    "D = Discriminator().to(device)"
   ]
  },
  {
   "cell_type": "code",
   "execution_count": 17,
   "metadata": {},
   "outputs": [
    {
     "data": {
      "text/plain": [
       "Discriminator(\n",
       "  (main): Sequential(\n",
       "    (0): Conv2d(1, 64, kernel_size=(4, 4), stride=(2, 2), padding=(3, 3), bias=False)\n",
       "    (1): LeakyReLU(negative_slope=0.2)\n",
       "    (2): Conv2d(64, 128, kernel_size=(4, 4), stride=(2, 2), padding=(1, 1), bias=False)\n",
       "    (3): BatchNorm2d(128, eps=1e-05, momentum=0.1, affine=True, track_running_stats=True)\n",
       "    (4): LeakyReLU(negative_slope=0.2)\n",
       "    (5): Conv2d(128, 256, kernel_size=(4, 4), stride=(2, 2), padding=(1, 1), bias=False)\n",
       "    (6): BatchNorm2d(256, eps=1e-05, momentum=0.1, affine=True, track_running_stats=True)\n",
       "    (7): LeakyReLU(negative_slope=0.2)\n",
       "    (8): Conv2d(256, 1, kernel_size=(4, 4), stride=(1, 1), bias=False)\n",
       "    (9): Sigmoid()\n",
       "  )\n",
       ")"
      ]
     },
     "execution_count": 17,
     "metadata": {},
     "output_type": "execute_result"
    }
   ],
   "source": [
    "G.apply(weight_init)\n",
    "D.apply(weight_init)"
   ]
  },
  {
   "cell_type": "code",
   "execution_count": 18,
   "metadata": {},
   "outputs": [],
   "source": [
    "batch_size = 64"
   ]
  },
  {
   "cell_type": "code",
   "execution_count": 19,
   "metadata": {},
   "outputs": [],
   "source": [
    "dl = DataLoader(ds, batch_size=batch_size)"
   ]
  },
  {
   "cell_type": "code",
   "execution_count": 20,
   "metadata": {},
   "outputs": [],
   "source": [
    "loss = nn.BCELoss()"
   ]
  },
  {
   "cell_type": "code",
   "execution_count": 21,
   "metadata": {},
   "outputs": [],
   "source": [
    "real_label = 1\n",
    "fake_label = 1- real_label"
   ]
  },
  {
   "cell_type": "code",
   "execution_count": 22,
   "metadata": {},
   "outputs": [],
   "source": [
    "lr = 2e-4\n",
    "beta=.5"
   ]
  },
  {
   "cell_type": "code",
   "execution_count": 23,
   "metadata": {},
   "outputs": [],
   "source": [
    "optimizerD = torch.optim.Adam(D.parameters(), lr=lr,betas=(beta, .999))\n",
    "optimizerG = torch.optim.Adam(G.parameters(), lr=lr,betas=(beta, .999))"
   ]
  },
  {
   "cell_type": "code",
   "execution_count": 24,
   "metadata": {},
   "outputs": [],
   "source": [
    "epochs = 30"
   ]
  },
  {
   "cell_type": "code",
   "execution_count": 25,
   "metadata": {},
   "outputs": [],
   "source": [
    "from torchvision.utils import save_image"
   ]
  },
  {
   "cell_type": "code",
   "execution_count": 26,
   "metadata": {},
   "outputs": [],
   "source": [
    "disc_losses = []\n",
    "gen_losses = []\n"
   ]
  },
  {
   "cell_type": "code",
   "execution_count": null,
   "metadata": {},
   "outputs": [],
   "source": [
    "savestep=0"
   ]
  },
  {
   "cell_type": "code",
   "execution_count": null,
   "metadata": {},
   "outputs": [
    {
     "name": "stdout",
     "output_type": "stream",
     "text": [
      "Starting epoch 0...\n"
     ]
    }
   ],
   "source": [
    "for epoch in range(epochs):\n",
    "    print(\"Starting epoch %d...\" % epoch)\n",
    "    for i, (x,y) in enumerate(dl):\n",
    "        x = x.to(device)\n",
    "        y = y.to(device)\n",
    "\n",
    "        #size of current batch\n",
    "        N = x.shape[0]\n",
    "        ## update the discriminator\n",
    "        disc_real = D(x)\n",
    "        real_probs = torch.full((N,), real_label, device=device)\n",
    "        disc_loss_real = loss(disc_real, real_probs)\n",
    "\n",
    "        z = torch.randn(N, latent_size,1,1,device=device)\n",
    "        #detach here, so gradients don't flow to the generator\n",
    "        fake_outputs = G(z).detach()\n",
    "        disc_fake = D(fake_outputs)\n",
    "        fake_probs = torch.full((N,), fake_label, device=device)\n",
    "        disc_loss_fake = loss(disc_fake, fake_probs)\n",
    "\n",
    "        D.zero_grad()\n",
    "        disc_loss = disc_loss_real+ disc_loss_fake\n",
    "        disc_loss.backward()\n",
    "        #update disc weights only\n",
    "        optimizerD.step()\n",
    "\n",
    "        ## update the generator\n",
    "        z = torch.randn(N, latent_size, 1, 1, device=device)\n",
    "        disc_fake = D(G(z))\n",
    "        fake_labels = torch.full((N,), real_label, device=device)\n",
    "        gen_loss = loss(disc_fake, fake_labels)\n",
    "\n",
    "        G.zero_grad()\n",
    "        gen_loss.backward()\n",
    "        optimizerG.step()   \n",
    "    \n",
    "        if i %100 ==0:\n",
    "            disc_losses.append(disc_loss.item())\n",
    "            gen_losses.append(gen_loss.item())\n",
    "        \n",
    "        #save some examples of real and fake images\n",
    "        save_image(x, \"saved_images/real_epoch_%d.png\"%savestep)\n",
    "        save_image(fake_outputs, \"saved_images/fake_epoch_%d.png\"%savestep)\n",
    "\n",
    "    #save the models\n",
    "    torch.save(D.state_dict(), \"saved_models/discriminator_epoch%d\"%epoch)\n",
    "    torch.save(G.state_dict(), \"saved_models/generator_epoch%d\"%epoch)"
   ]
  },
  {
   "cell_type": "code",
   "execution_count": null,
   "metadata": {},
   "outputs": [],
   "source": [
    "import numpy as np\n",
    "np.save(\"saved_models/generator_loss\", gen_losses)\n",
    "np.save(\"saved_models/discriminator_loss\", disc_losses)"
   ]
  }
 ],
 "metadata": {
  "kernelspec": {
   "display_name": "Python 3",
   "language": "python",
   "name": "python3"
  },
  "language_info": {
   "codemirror_mode": {
    "name": "ipython",
    "version": 3
   },
   "file_extension": ".py",
   "mimetype": "text/x-python",
   "name": "python",
   "nbconvert_exporter": "python",
   "pygments_lexer": "ipython3",
   "version": "3.6.8"
  }
 },
 "nbformat": 4,
 "nbformat_minor": 2
}
