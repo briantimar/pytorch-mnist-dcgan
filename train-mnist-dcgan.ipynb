{
 "cells": [
  {
   "cell_type": "markdown",
   "metadata": {},
   "source": [
    "## Training DCGAN on MNIST"
   ]
  },
  {
   "cell_type": "markdown",
   "metadata": {},
   "source": [
    "### Intro\n",
    "[DCGAN](https://arxiv.org/abs/1511.06434) is a an architecture for generative adversarial nets based on stacked convolutional layers. In the original paper use it to demonstrate *interpolation between bedrooms* and *face algebra* -- wonderful stuff. \n",
    "\n",
    "Here, I'm just going to train a (version of) DCGAN on the standard MNIST dataset and try to take a peek at the guts of the network."
   ]
  },
  {
   "cell_type": "markdown",
   "metadata": {},
   "source": [
    "Necessary imports: PyTorch for building and training the model, torchvision for easy access to the dataset."
   ]
  },
  {
   "cell_type": "code",
   "execution_count": 1,
   "metadata": {},
   "outputs": [],
   "source": [
    "import torch\n",
    "import numpy as np\n",
    "import torchvision"
   ]
  },
  {
   "cell_type": "code",
   "execution_count": 2,
   "metadata": {},
   "outputs": [],
   "source": [
    "from torch.utils.data import DataLoader\n",
    "from torch.utils.data import TensorDataset, Dataset"
   ]
  },
  {
   "cell_type": "code",
   "execution_count": 3,
   "metadata": {},
   "outputs": [],
   "source": [
    "DATA = \"data/\""
   ]
  },
  {
   "cell_type": "markdown",
   "metadata": {},
   "source": [
    "The torchvision dataset consists of (PIL, label) pairs, where PIL is a digit image (28 x 28), and label the corresponding ground-truth label."
   ]
  },
  {
   "cell_type": "code",
   "execution_count": 4,
   "metadata": {},
   "outputs": [],
   "source": [
    "%%capture\n",
    "mnist_ds= torchvision.datasets.MNIST(DATA, download=True)"
   ]
  },
  {
   "cell_type": "markdown",
   "metadata": {},
   "source": [
    "Here's an example of some images from the training set:\n",
    "![train-samples](saved_images/real/real_step_0.png)"
   ]
  },
  {
   "cell_type": "code",
   "execution_count": 5,
   "metadata": {},
   "outputs": [],
   "source": [
    "import torchvision.transforms as transforms"
   ]
  },
  {
   "cell_type": "markdown",
   "metadata": {},
   "source": [
    "This collects all image transformations we want to apply before feeding transformations to the machine. Here only a rescaling of the images is applied, to put pixel values in the range [-1, 1] (this matches the generator's tanh() output)"
   ]
  },
  {
   "cell_type": "code",
   "execution_count": 6,
   "metadata": {},
   "outputs": [],
   "source": [
    "rescale = lambda x: 2 * x -1 "
   ]
  },
  {
   "cell_type": "code",
   "execution_count": 7,
   "metadata": {},
   "outputs": [],
   "source": [
    "transform = transforms.Compose([\n",
    "                    transforms.ToTensor(), \n",
    "                    rescale\n",
    "])"
   ]
  },
  {
   "cell_type": "markdown",
   "metadata": {},
   "source": [
    "A simple dataset for providing image tensors on demand. In fact, it provides labels as well, though I'm not using those."
   ]
  },
  {
   "cell_type": "code",
   "execution_count": 8,
   "metadata": {},
   "outputs": [],
   "source": [
    "class MNISTDS(Dataset):\n",
    "    def __init__(self, mnist_ds, transform):\n",
    "        super().__init__()\n",
    "        self.mnist_ds= mnist_ds\n",
    "        self.transform = transform\n",
    "    def __len__(self):\n",
    "        return len(self.mnist_ds)\n",
    "    def __getitem__(self, i):\n",
    "        return self.transform(self.mnist_ds[i][0]), self.mnist_ds[i][1]\n",
    "    "
   ]
  },
  {
   "cell_type": "code",
   "execution_count": 9,
   "metadata": {},
   "outputs": [],
   "source": [
    "ds = MNISTDS(mnist_ds, transform)"
   ]
  },
  {
   "cell_type": "markdown",
   "metadata": {},
   "source": [
    "## Building the model"
   ]
  },
  {
   "cell_type": "code",
   "execution_count": 10,
   "metadata": {},
   "outputs": [],
   "source": [
    "import torch.nn as nn"
   ]
  },
  {
   "cell_type": "markdown",
   "metadata": {},
   "source": [
    "The DCGAN architecture is a bunch of stacked \"transposed convolutions\". If you're wondering what a \"tranposed\" convolution is, as I was when I tried to set this network up, see [here](https://github.com/vdumoulin/conv_arithmetic) for some very helpful visualizations. The punchline is: it's an ordinary convolution, but where the *stride* is used to \"inflate\" the input image before feeding it to the conv filter, so that the outputs can end up being larger in spatial extent than the inputs.\n",
    "\n",
    "Here, I'm basically copying the [example pytorch implementation of DCGAN](https://github.com/pytorch/examples/blob/master/dcgan/main.py). Only slight modifications are required to fit the generator and discriminator to MNIST data."
   ]
  },
  {
   "cell_type": "markdown",
   "metadata": {},
   "source": [
    "## The Generator\n",
    "The principle of the generator is to map *noise vectors* to *fake images*, the former being distributed according to some simple (here, standard-normal) prior, by some deterministic operation. For DCGAN, the latter is defined by upsampling with a sequence of transposed convolutions. \n",
    "\n",
    "We start with a noise, or \"latent\" vector of size (100,1,1), and  treat its last two dimensions as spatial. In effect, the latent vector is a 1x1 image, with 100 indepedent noisy channels. \n",
    "\n",
    "This is then fed through **four transposed convolutional layers**. They all use the same kernel size (4), and\n",
    "The first transpose-conv layer uses 64 * 4 filters. As we move up through each subsequent Conv layer in the stack, the number of filters *halves* at each layer, while the linear size of the image *doubles*. The doubling is acheived by setting stride 2 and padding 1 (the definition of 'padding' here is confusing -- see pytorch docs). In between the Conv layers, we use batch normalization, and ReLU for a nonlinearity.\n",
    "\n",
    "The output is obtained by passing the final conv layer though a tanh filter."
   ]
  },
  {
   "cell_type": "code",
   "execution_count": 11,
   "metadata": {},
   "outputs": [],
   "source": [
    "class Generator(nn.Module):\n",
    "    def __init__(self, latent_size):\n",
    "        \"\"\"latent_size = size of the latent space\"\"\"\n",
    "        super(Generator, self).__init__()\n",
    "        \n",
    "        self.latent_size = latent_size\n",
    "        \n",
    "        #kernel size\n",
    "        self.kernel_size =4\n",
    "        #(proportional to the) number of generator filters\n",
    "        self.ngf = 64\n",
    "        \n",
    "        #takes a latent vector and outputs MNIST-sized image\n",
    "        #input: (_, nz, 1, 1) latent vector\n",
    "        self.upsample = nn.Sequential(\n",
    "            \n",
    "                                nn.ConvTranspose2d(self.latent_size, 4 * self.ngf, self.kernel_size,\n",
    "                                                      stride=1,padding=0,bias=False), \n",
    "                                nn.BatchNorm2d( 4 * self.ngf), \n",
    "                                nn.ReLU(),\n",
    "                                #spatial extent here is set by the kernel: (4,4)\n",
    "                                \n",
    "                                #by setting stride=2, we effectively double the output size (up to fiddling\n",
    "                                #with the boundary conditions..)\n",
    "                                # Weirdly, increasing the 'padding' arg actually decreases the amount of padding \n",
    "                                #that's applied to the input. the only reason padding is being used here is to\n",
    "                                #keep the output shapes at nice multiples of two\n",
    "                                nn.ConvTranspose2d(4 * self.ngf, 2 * self.ngf, self.kernel_size,\n",
    "                                                      stride=2,padding=1, bias=False), \n",
    "                                nn.BatchNorm2d( 2 * self.ngf), \n",
    "                                nn.ReLU(),\n",
    "                                \n",
    "                                #( 8,8)\n",
    "                                nn.ConvTranspose2d(2 * self.ngf, 1 * self.ngf, self.kernel_size,\n",
    "                                                      stride=2,padding=1, bias=False), \n",
    "                                nn.BatchNorm2d( 1 * self.ngf), \n",
    "                                nn.ReLU(),\n",
    "                                #(16,16)\n",
    "                                #here I'm increasing the padding to bring the output size to (28,28)\n",
    "                                #for MNIST\n",
    "                                nn.ConvTranspose2d(self.ngf, 1, self.kernel_size,\n",
    "                                                      stride=2,padding=3, bias=False), \n",
    "                                nn.Tanh(),\n",
    "                                #(32,32)\n",
    "                                \n",
    "                                                                                            \n",
    "                                )\n",
    "        \n",
    "    def forward(self, z):\n",
    "        \"\"\"Input: (_, latent_size) noise tensor\n",
    "            Output: (_, 1, 32, 32) generated image tensor\"\"\"\n",
    "        z = z.view(-1, self.latent_size, 1, 1)\n",
    "        return self.upsample(z)"
   ]
  },
  {
   "cell_type": "markdown",
   "metadata": {},
   "source": [
    "## The Discriminator \n",
    "Roughly speaking, this looks like the generator run in reverse. Four conv layers are applied to input images, with the number of filters *doubling* at each step, and the spatial extent *halving*. This time a LeakyReLU nonlinearity is observed, on the advice of the DCGAN authors.\n",
    "\n",
    "The output is a single sigmoid neuron, interpreted as the probability of the input coming from the real data distribution."
   ]
  },
  {
   "cell_type": "code",
   "execution_count": 12,
   "metadata": {},
   "outputs": [],
   "source": [
    "class Discriminator(nn.Module):\n",
    "    def __init__(self):\n",
    "        super(Discriminator, self).__init__()\n",
    "        \n",
    "        #scaling for the number of filters\n",
    "        self.nf = 64\n",
    "        # kernel size \n",
    "        self.kernel_size = 4\n",
    "        #input (1,28,28)\n",
    "        \n",
    "        #this is more or less the generator stack run in reverse\n",
    "        # a stride of 2 and padding of 1 causes the spatial extent to halve at each step\n",
    "        self.main = nn.Sequential(\n",
    "            nn.Conv2d(1, self.nf, self.kernel_size, stride=2,padding=3, bias=False),\n",
    "            nn.LeakyReLU(.2),\n",
    "            nn.Conv2d(self.nf, 2 * self.nf, self.kernel_size, stride=2, padding=1, bias=False),\n",
    "            nn.BatchNorm2d(2 * self.nf),\n",
    "            nn.LeakyReLU(.2),\n",
    "            nn.Conv2d(2*self.nf, 4 * self.nf, self.kernel_size, stride=2, padding=1, bias=False),\n",
    "            nn.BatchNorm2d(4 * self.nf),\n",
    "            nn.LeakyReLU(.2),\n",
    "            nn.Conv2d(4*self.nf, 1 , self.kernel_size, stride=1, padding=0, bias=False),\n",
    "            nn.Sigmoid()\n",
    "            \n",
    "        )\n",
    "        \n",
    "    def forward(self, x):\n",
    "        \"\"\"Input: (_, 1, 28, 28) image\n",
    "            Output: (_, 1) classification tensor\"\"\"\n",
    "        x = x.view(-1, 1, 28,28)\n",
    "        return self.main(x).view(-1)"
   ]
  },
  {
   "cell_type": "markdown",
   "metadata": {},
   "source": [
    "Take a gpu if it's available"
   ]
  },
  {
   "cell_type": "code",
   "execution_count": 13,
   "metadata": {},
   "outputs": [],
   "source": [
    "devname = \"cuda:0\" if torch.cuda.is_available() else \"cpu\""
   ]
  },
  {
   "cell_type": "code",
   "execution_count": 14,
   "metadata": {},
   "outputs": [],
   "source": [
    "device = torch.device(devname)"
   ]
  },
  {
   "cell_type": "markdown",
   "metadata": {},
   "source": [
    "The size of the latent space. I put no thought into this!"
   ]
  },
  {
   "cell_type": "code",
   "execution_count": 15,
   "metadata": {},
   "outputs": [],
   "source": [
    "latent_size = 100"
   ]
  },
  {
   "cell_type": "markdown",
   "metadata": {},
   "source": [
    "Initialize the Conv and BatchNorm layers. Apparently these values work well. This initializer is copied directly from the pytorch example mentioned above."
   ]
  },
  {
   "cell_type": "code",
   "execution_count": 16,
   "metadata": {},
   "outputs": [],
   "source": [
    "def weight_init(module):\n",
    "    classname = module.__class__.__name__\n",
    "    if classname.find('Conv')!=-1:\n",
    "        module.weight.data.normal_(0.0, .02)\n",
    "    elif classname.find('BatchNorm') != -1:\n",
    "        module.weight.data.normal_(1.0, .01)\n",
    "        module.bias.data.fill_(0.0)"
   ]
  },
  {
   "cell_type": "markdown",
   "metadata": {},
   "source": [
    "Build the generator and discriminator, and move them to gpu"
   ]
  },
  {
   "cell_type": "code",
   "execution_count": 17,
   "metadata": {},
   "outputs": [],
   "source": [
    "G = Generator(latent_size).to(device)\n",
    "D = Discriminator().to(device)"
   ]
  },
  {
   "cell_type": "markdown",
   "metadata": {},
   "source": [
    "Initialize the weights"
   ]
  },
  {
   "cell_type": "code",
   "execution_count": 18,
   "metadata": {},
   "outputs": [
    {
     "data": {
      "text/plain": [
       "Discriminator(\n",
       "  (main): Sequential(\n",
       "    (0): Conv2d(1, 64, kernel_size=(4, 4), stride=(2, 2), padding=(3, 3), bias=False)\n",
       "    (1): LeakyReLU(negative_slope=0.2)\n",
       "    (2): Conv2d(64, 128, kernel_size=(4, 4), stride=(2, 2), padding=(1, 1), bias=False)\n",
       "    (3): BatchNorm2d(128, eps=1e-05, momentum=0.1, affine=True, track_running_stats=True)\n",
       "    (4): LeakyReLU(negative_slope=0.2)\n",
       "    (5): Conv2d(128, 256, kernel_size=(4, 4), stride=(2, 2), padding=(1, 1), bias=False)\n",
       "    (6): BatchNorm2d(256, eps=1e-05, momentum=0.1, affine=True, track_running_stats=True)\n",
       "    (7): LeakyReLU(negative_slope=0.2)\n",
       "    (8): Conv2d(256, 1, kernel_size=(4, 4), stride=(1, 1), bias=False)\n",
       "    (9): Sigmoid()\n",
       "  )\n",
       ")"
      ]
     },
     "execution_count": 18,
     "metadata": {},
     "output_type": "execute_result"
    }
   ],
   "source": [
    "G.apply(weight_init)\n",
    "D.apply(weight_init)"
   ]
  },
  {
   "cell_type": "code",
   "execution_count": 19,
   "metadata": {},
   "outputs": [],
   "source": [
    "batch_size = 64"
   ]
  },
  {
   "cell_type": "code",
   "execution_count": 20,
   "metadata": {},
   "outputs": [],
   "source": [
    "dl = DataLoader(ds, batch_size=batch_size, shuffle=True)"
   ]
  },
  {
   "cell_type": "code",
   "execution_count": 21,
   "metadata": {},
   "outputs": [],
   "source": [
    "loss = nn.BCELoss()"
   ]
  },
  {
   "cell_type": "markdown",
   "metadata": {},
   "source": [
    "Pick a convention for labeling real and fake data. This amounts to a convention for what the discriminator represents. If `real_label=1`, it correponds to `p(real | image)`."
   ]
  },
  {
   "cell_type": "code",
   "execution_count": 22,
   "metadata": {},
   "outputs": [],
   "source": [
    "real_label = 1\n",
    "fake_label = 1- real_label"
   ]
  },
  {
   "cell_type": "markdown",
   "metadata": {},
   "source": [
    "These hyperparameters are straight from the DCGAN paper."
   ]
  },
  {
   "cell_type": "code",
   "execution_count": 23,
   "metadata": {},
   "outputs": [],
   "source": [
    "lr = 2e-4\n",
    "beta=.5"
   ]
  },
  {
   "cell_type": "markdown",
   "metadata": {},
   "source": [
    "One optimizer for each network. Makes it easy to update the two different sets of weights in alternating steps."
   ]
  },
  {
   "cell_type": "code",
   "execution_count": 24,
   "metadata": {},
   "outputs": [],
   "source": [
    "optimizerD = torch.optim.Adam(D.parameters(), lr=lr,betas=(beta, .999))\n",
    "optimizerG = torch.optim.Adam(G.parameters(), lr=lr,betas=(beta, .999))"
   ]
  },
  {
   "cell_type": "markdown",
   "metadata": {},
   "source": [
    "How many passes to take over the dataset."
   ]
  },
  {
   "cell_type": "code",
   "execution_count": 25,
   "metadata": {},
   "outputs": [],
   "source": [
    "epochs = 10"
   ]
  },
  {
   "cell_type": "code",
   "execution_count": 26,
   "metadata": {},
   "outputs": [],
   "source": [
    "from torchvision.utils import save_image"
   ]
  },
  {
   "cell_type": "markdown",
   "metadata": {},
   "source": [
    "For tracking the discriminator and generator loss functions during training."
   ]
  },
  {
   "cell_type": "code",
   "execution_count": 27,
   "metadata": {},
   "outputs": [],
   "source": [
    "disc_losses = []\n",
    "gen_losses = []\n"
   ]
  },
  {
   "cell_type": "code",
   "execution_count": 28,
   "metadata": {},
   "outputs": [],
   "source": [
    "savestep=0"
   ]
  },
  {
   "cell_type": "markdown",
   "metadata": {},
   "source": [
    "### Model training\n",
    "\n",
    "Each batch update consists of two steps: first, the discriminator tries to maximize the number of real and fake images it correctly classifies (you can think of this as attempting to match the true posterior distribution over 'real' and 'fake' labels, which is why a binary cross-entropy loss is appropriate). Next, the generator tries to maximize the probability of *misclassification* of its own outputs. Note that no real data is used in this step.\n",
    "\n",
    "Samples from the generator are periodically recorded."
   ]
  },
  {
   "cell_type": "code",
   "execution_count": 29,
   "metadata": {},
   "outputs": [
    {
     "name": "stdout",
     "output_type": "stream",
     "text": [
      "Starting epoch 0...\n",
      "Starting epoch 1...\n",
      "Starting epoch 2...\n",
      "Starting epoch 3...\n",
      "Starting epoch 4...\n",
      "Starting epoch 5...\n",
      "Starting epoch 6...\n",
      "Starting epoch 7...\n",
      "Starting epoch 8...\n",
      "Starting epoch 9...\n"
     ]
    }
   ],
   "source": [
    "for epoch in range(epochs):\n",
    "    print(\"Starting epoch %d...\" % epoch)\n",
    "    for i, (x,y) in enumerate(dl):\n",
    "        x = x.to(device)\n",
    "        y = y.to(device)\n",
    "\n",
    "        #size of current batch\n",
    "        N = x.shape[0]\n",
    "        ## update the discriminator\n",
    "        disc_real = D(x)\n",
    "        real_probs = torch.full((N,), real_label, device=device)\n",
    "        disc_loss_real = loss(disc_real, real_probs)\n",
    "\n",
    "        z = torch.randn(N, latent_size,1,1,device=device)\n",
    "        #detach here, so gradients don't flow to the generator\n",
    "        fake_outputs = G(z).detach()\n",
    "        disc_fake = D(fake_outputs)\n",
    "        fake_probs = torch.full((N,), fake_label, device=device)\n",
    "        disc_loss_fake = loss(disc_fake, fake_probs)\n",
    "\n",
    "        D.zero_grad()\n",
    "        disc_loss = disc_loss_real+ disc_loss_fake\n",
    "        disc_loss.backward()\n",
    "        #update disc weights only\n",
    "        optimizerD.step()\n",
    "\n",
    "        ## update the generator\n",
    "        z = torch.randn(N, latent_size, 1, 1, device=device)\n",
    "        disc_fake = D(G(z))\n",
    "        fake_labels = torch.full((N,), real_label, device=device)\n",
    "        gen_loss = loss(disc_fake, fake_labels)\n",
    "\n",
    "        G.zero_grad()\n",
    "        gen_loss.backward()\n",
    "        optimizerG.step()   \n",
    "    \n",
    "        if i % 25 ==0:\n",
    "            disc_losses.append(disc_loss.item())\n",
    "            gen_losses.append(gen_loss.item())\n",
    "        \n",
    "            #save some examples of real and fake images\n",
    "            save_image((x+1)/2, \"saved_images/real_step_%d.png\"%savestep)\n",
    "            save_image((fake_outputs+1)/2, \"saved_images/fake_step_%d.png\"%savestep)\n",
    "            savestep += 1\n",
    "\n",
    "    #save the models every epoch\n",
    "    torch.save(D.state_dict(), \"saved_models/discriminator_epoch%d\"%epoch)\n",
    "    torch.save(G.state_dict(), \"saved_models/generator_epoch%d\"%epoch)"
   ]
  },
  {
   "cell_type": "code",
   "execution_count": 33,
   "metadata": {},
   "outputs": [],
   "source": [
    "import numpy as np\n",
    "np.save(\"saved_models/generator_loss\", gen_losses)\n",
    "np.save(\"saved_models/discriminator_loss\", disc_losses)"
   ]
  },
  {
   "cell_type": "markdown",
   "metadata": {},
   "source": [
    "Look at the generator and discriminator losses during training:"
   ]
  },
  {
   "cell_type": "code",
   "execution_count": 34,
   "metadata": {},
   "outputs": [],
   "source": [
    "import matplotlib.pyplot as plt"
   ]
  },
  {
   "cell_type": "code",
   "execution_count": 36,
   "metadata": {},
   "outputs": [
    {
     "data": {
      "text/plain": [
       "Text(0,0.5,'Gen. loss')"
      ]
     },
     "execution_count": 36,
     "metadata": {},
     "output_type": "execute_result"
    },
    {
     "data": {
      "image/png": "[encoded data removed]",
      "text/plain": [
       "<matplotlib.figure.Figure at 0x7f39e2b48390>"
      ]
     },
     "metadata": {},
     "output_type": "display_data"
    }
   ],
   "source": [
    "fig, axes = plt.subplots(2,1)\n",
    "\n",
    "ax = axes[0]\n",
    "ax.plot(disc_losses)\n",
    "ax.set_ylabel(\"Disc. loss\")\n",
    "\n",
    "ax = axes[1]\n",
    "ax.plot(gen_losses)\n",
    "ax.set_xlabel(\"Train step\")\n",
    "ax.set_ylabel(\"Gen. loss\")\n"
   ]
  },
  {
   "cell_type": "markdown",
   "metadata": {},
   "source": [
    "![](saved_images/fake_step_299.png)"
   ]
  },
  {
   "cell_type": "markdown",
   "metadata": {},
   "source": [
    "Here's a sample of the generator outputs at the end of training:"
   ]
  },
  {
   "cell_type": "markdown",
   "metadata": {},
   "source": [
    "![fake-samples](saved_images/fake_step_378.png)"
   ]
  },
  {
   "cell_type": "markdown",
   "metadata": {},
   "source": [
    "The samples are crisp and diverse, and I'm impressed by the variation in stroke width. What's cool about the GAN is that, when it makes mistakes, it seems to make human-like mistakes -- writing a *single digit* sloppily, for example, rather than blurring several similar digits together. "
   ]
  },
  {
   "cell_type": "markdown",
   "metadata": {},
   "source": [
    "Here's a time lapse of samples from the generator, each frame corresponding to one \"savestep\". The digits become realistic remarkably quickly -- even a few epochs will produce crisp samples."
   ]
  },
  {
   "cell_type": "markdown",
   "metadata": {},
   "source": [
    "![fake-timelapse](saved_images/fake.gif)"
   ]
  },
  {
   "cell_type": "markdown",
   "metadata": {},
   "source": [
    "### What's going on inside the generator?\n",
    "\n",
    "It's kind of crazy that random noise vectors get mapped to realistic \"hand-drawn\" figures after just a few conv layers."
   ]
  },
  {
   "cell_type": "code",
   "execution_count": 38,
   "metadata": {},
   "outputs": [],
   "source": [
    "s = 6\n",
    "N = s**2"
   ]
  },
  {
   "cell_type": "code",
   "execution_count": 52,
   "metadata": {},
   "outputs": [],
   "source": [
    "intermediate_tensors = []"
   ]
  },
  {
   "cell_type": "code",
   "execution_count": 53,
   "metadata": {},
   "outputs": [],
   "source": [
    "with torch.no_grad():\n",
    "    z = torch.randn(N, latent_size, 1, 1, device=device)\n",
    "    intermediate_tensors.append(z.cpu())\n",
    "    for c in G.upsample.children():\n",
    "        z = c(z)\n",
    "        layer_type = c.__class__.__name__\n",
    "        if layer_type in ['ReLU', 'Tanh']:\n",
    "            intermediate_tensors.append(z.cpu())"
   ]
  },
  {
   "cell_type": "code",
   "execution_count": 54,
   "metadata": {},
   "outputs": [
    {
     "name": "stdout",
     "output_type": "stream",
     "text": [
      "torch.Size([36, 100, 1, 1])\n",
      "torch.Size([36, 256, 4, 4])\n",
      "torch.Size([36, 128, 8, 8])\n",
      "torch.Size([36, 64, 16, 16])\n",
      "torch.Size([36, 1, 28, 28])\n"
     ]
    }
   ],
   "source": [
    "for t in intermediate_tensors:\n",
    "    print(t.shape)"
   ]
  },
  {
   "cell_type": "code",
   "execution_count": 55,
   "metadata": {},
   "outputs": [],
   "source": [
    "intermediate_numpy = [t.numpy() for t in intermediate_tensors]"
   ]
  },
  {
   "cell_type": "code",
   "execution_count": 69,
   "metadata": {},
   "outputs": [],
   "source": [
    "sample_index = 0"
   ]
  },
  {
   "cell_type": "markdown",
   "metadata": {},
   "source": [
    "First, look at the generator output:"
   ]
  },
  {
   "cell_type": "code",
   "execution_count": 83,
   "metadata": {},
   "outputs": [
    {
     "data": {
      "text/plain": [
       "<matplotlib.image.AxesImage at 0x7f39e21cd198>"
      ]
     },
     "execution_count": 83,
     "metadata": {},
     "output_type": "execute_result"
    },
    {
     "data": {
      "image/png": "[encoded data removed]",
      "text/plain": [
       "<matplotlib.figure.Figure at 0x7f39d60d5f98>"
      ]
     },
     "metadata": {},
     "output_type": "display_data"
    }
   ],
   "source": [
    "fig, ax= plt.subplots(figsize=(2,2),dpi=200)\n",
    "ax.axis('off')\n",
    "plt.imshow(intermediate_numpy[-1][sample_index, 0, ...], cmap='gray')"
   ]
  },
  {
   "cell_type": "markdown",
   "metadata": {},
   "source": [
    "Now look a some of the penultimate filter bank outputs (post-nonlinearity)"
   ]
  },
  {
   "cell_type": "code",
   "execution_count": 86,
   "metadata": {},
   "outputs": [],
   "source": [
    "\n",
    "def plot_filter_outputs(sample_index, layer_index):\n",
    "    s = 8\n",
    "    fig, axes = plt.subplots(s,s,figsize=(3,3),dpi=250)\n",
    "    for ii in range(s):\n",
    "        for jj in range(s):\n",
    "            ax = axes[ii,jj]\n",
    "            ax.imshow(intermediate_numpy[layer_index][sample_index][ii*s + jj,...], cmap='gray')\n",
    "            ax.axis('off')\n",
    "    plt.subplots_adjust(hspace=0, wspace=0)\n",
    "    return fig, axes\n"
   ]
  },
  {
   "cell_type": "code",
   "execution_count": 87,
   "metadata": {},
   "outputs": [
    {
     "data": {
      "image/png": "[encoded data removed]",
      "text/plain": [
       "<matplotlib.figure.Figure at 0x7f39c8d6b358>"
      ]
     },
     "metadata": {},
     "output_type": "display_data"
    }
   ],
   "source": [
    "fig, axes = plot_filter_outputs(sample_index, -2)"
   ]
  },
  {
   "cell_type": "markdown",
   "metadata": {},
   "source": [
    "These are interesting. A lot of them have outputs which clearly 'shadow' the digit ends up producing."
   ]
  },
  {
   "cell_type": "markdown",
   "metadata": {},
   "source": [
    "Go another layer deep..."
   ]
  },
  {
   "cell_type": "code",
   "execution_count": 88,
   "metadata": {},
   "outputs": [
    {
     "data": {
      "image/png": "[encoded data removed]",
      "text/plain": [
       "<matplotlib.figure.Figure at 0x7f39c9ea3278>"
      ]
     },
     "metadata": {},
     "output_type": "display_data"
    }
   ],
   "source": [
    "fig, axes = plot_filter_outputs(sample_index, -3)"
   ]
  },
  {
   "cell_type": "code",
   "execution_count": 89,
   "metadata": {},
   "outputs": [
    {
     "data": {
      "image/png": "[encoded data removed]",
      "text/plain": [
       "<matplotlib.figure.Figure at 0x7f39c811b710>"
      ]
     },
     "metadata": {},
     "output_type": "display_data"
    }
   ],
   "source": [
    "fig, axes = plot_filter_outputs(sample_index, -4)"
   ]
  },
  {
   "cell_type": "markdown",
   "metadata": {},
   "source": [
    "These are the first nonlinearity outputs after the noise vector is generated."
   ]
  }
 ],
 "metadata": {
  "kernelspec": {
   "display_name": "Python 3",
   "language": "python",
   "name": "python3"
  },
  "language_info": {
   "codemirror_mode": {
    "name": "ipython",
    "version": 3
   },
   "file_extension": ".py",
   "mimetype": "text/x-python",
   "name": "python",
   "nbconvert_exporter": "python",
   "pygments_lexer": "ipython3",
   "version": "3.6.8"
  }
 },
 "nbformat": 4,
 "nbformat_minor": 2
}
